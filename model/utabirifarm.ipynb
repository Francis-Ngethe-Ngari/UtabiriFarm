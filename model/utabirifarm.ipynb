{
 "cells": [
  {
   "cell_type": "markdown",
   "metadata": {},
   "source": [
    "# **Import the necessary libraries**"
   ]
  },
  {
   "cell_type": "code",
   "execution_count": 6,
   "metadata": {},
   "outputs": [],
   "source": [
    "import os\n",
    "import shutil\n",
    "import random\n",
    "import numpy as np\n",
    "import kaggle"
   ]
  },
  {
   "cell_type": "markdown",
   "metadata": {},
   "source": [
    "# **Download dataset from kaggle**"
   ]
  },
  {
   "cell_type": "code",
   "execution_count": 3,
   "metadata": {},
   "outputs": [
    {
     "name": "stdout",
     "output_type": "stream",
     "text": [
      "Dataset URL: https://www.kaggle.com/datasets/abdallahalidev/plantvillage-dataset\n",
      "License(s): CC-BY-NC-SA-4.0\n",
      "plantvillage-dataset.zip: Skipping, found more recently modified local copy (use --force to force download)\n"
     ]
    }
   ],
   "source": [
    "! kaggle datasets download -d abdallahalidev/plantvillage-dataset"
   ]
  },
  {
   "cell_type": "markdown",
   "metadata": {},
   "source": [
    "# **Unzip dataset**"
   ]
  },
  {
   "cell_type": "code",
   "execution_count": 28,
   "metadata": {},
   "outputs": [],
   "source": [
    "! unzip -q plantvillage-dataset.zip"
   ]
  },
  {
   "cell_type": "code",
   "execution_count": 7,
   "metadata": {},
   "outputs": [
    {
     "name": "stdout",
     "output_type": "stream",
     "text": [
      "['color', 'grayscale', 'segmented']\n"
     ]
    }
   ],
   "source": [
    "# List all the directories in the dataset\n",
    "# Renamed plantvillage dataset to plantvillage_dataset\n",
    "data_dir = '/home/sudotechpro/alx_learn/UtabiriFarm/model/plantvillage_dataset'\n",
    "\n",
    "num_dir = os.listdir(data_dir)\n",
    "print(num_dir)"
   ]
  },
  {
   "cell_type": "code",
   "execution_count": 35,
   "metadata": {},
   "outputs": [
    {
     "name": "stdout",
     "output_type": "stream",
     "text": [
      "Apple___healthy\n",
      "Grape___Black_rot(2)\n",
      "Grape___Leaf_blight_(Isariopsis_Leaf_Spot)(3)\n",
      "Potato___healthy(3)\n",
      "Tomato___Septoria_leaf_spot(3)\n",
      "Peach___Bacterial_spot\n",
      "Corn_(maize)___Common_rust_(3)\n",
      "Apple___Black_rot(3)\n",
      "Grape___Esca_(Black_Measles)(2)\n",
      "Grape___Black_rot(3)\n",
      "Cherry_(including_sour)___Powdery_mildew(2)\n",
      "Grape___healthy(2)\n",
      "Soybean___healthy\n",
      "Potato___Late_blight(3)\n",
      "Tomato___Tomato_Yellow_Leaf_Curl_Virus(3)\n",
      "Corn_(maize)___healthy(3)\n",
      "Grape___healthy\n",
      "Pepper,_bell___healthy(3)\n",
      "Blueberry___healthy(3)\n",
      "Strawberry___healthy\n",
      "Raspberry___healthy\n",
      "Strawberry___healthy(2)\n",
      "Tomato___Target_Spot(3)\n",
      "Strawberry___Leaf_scorch(2)\n",
      "Tomato___Spider_mites Two-spotted_spider_mite(3)\n",
      "Grape___healthy(3)\n",
      "Blueberry___healthy(2)\n",
      "Tomato___Leaf_Mold(2)\n",
      "Tomato___Bacterial_spot(3)\n",
      "Squash___Powdery_mildew\n",
      "Corn_(maize)___Common_rust_(2)\n",
      "Corn_(maize)___Cercospora_leaf_spot Gray_leaf_spot\n",
      "Cherry_(including_sour)___healthy(2)\n",
      "Peach___healthy(3)\n",
      "Potato___Late_blight(2)\n",
      "Potato___Early_blight(2)\n",
      "Corn_(maize)___Northern_Leaf_Blight\n",
      "Raspberry___healthy(3)\n",
      "Corn_(maize)___healthy(2)\n",
      "Apple___Apple_scab\n",
      "Pepper,_bell___Bacterial_spot(2)\n",
      "Grape___Black_rot\n",
      "Strawberry___Leaf_scorch(3)\n",
      "Peach___healthy(2)\n",
      "Orange___Haunglongbing_(Citrus_greening)\n",
      "Corn_(maize)___Cercospora_leaf_spot Gray_leaf_spot(3)\n",
      "Tomato___Early_blight\n",
      "Peach___healthy\n",
      "Cherry_(including_sour)___healthy\n",
      "Apple___Cedar_apple_rust\n",
      "Tomato___Septoria_leaf_spot\n",
      "Corn_(maize)___Northern_Leaf_Blight(3)\n",
      "Potato___healthy(2)\n",
      "Tomato___Septoria_leaf_spot(2)\n",
      "Strawberry___healthy(3)\n",
      "Tomato___Late_blight(3)\n",
      "Apple___Cedar_apple_rust(2)\n",
      "Raspberry___healthy(2)\n",
      "Corn_(maize)___Northern_Leaf_Blight(2)\n",
      "Tomato___Bacterial_spot\n",
      "Tomato___Tomato_Yellow_Leaf_Curl_Virus(2)\n",
      "Tomato___Bacterial_spot(2)\n",
      "Pepper,_bell___Bacterial_spot\n",
      "Cherry_(including_sour)___healthy(3)\n",
      "Tomato___Spider_mites Two-spotted_spider_mite(2)\n",
      "Tomato___Leaf_Mold(3)\n",
      "Apple___Apple_scab(2)\n",
      "Soybean___healthy(3)\n",
      "Grape___Esca_(Black_Measles)(3)\n",
      "Tomato___Spider_mites Two-spotted_spider_mite\n",
      "Tomato___Late_blight\n",
      "Tomato___Early_blight(3)\n",
      "Apple___healthy(2)\n",
      "Soybean___healthy(2)\n",
      "Peach___Bacterial_spot(3)\n",
      "Blueberry___healthy\n",
      "Tomato___healthy(2)\n",
      "Tomato___Tomato_mosaic_virus(3)\n",
      "Tomato___Tomato_mosaic_virus\n",
      "Grape___Esca_(Black_Measles)\n",
      "Tomato___Early_blight(2)\n",
      "Tomato___Tomato_mosaic_virus(2)\n",
      "Tomato___Late_blight(2)\n",
      "Corn_(maize)___Cercospora_leaf_spot Gray_leaf_spot(2)\n",
      "Strawberry___Leaf_scorch\n",
      "Cherry_(including_sour)___Powdery_mildew\n",
      "Corn_(maize)___healthy\n",
      "Pepper,_bell___healthy\n",
      "Tomato___Tomato_Yellow_Leaf_Curl_Virus\n",
      "Orange___Haunglongbing_(Citrus_greening)(3)\n",
      "Tomato___Leaf_Mold\n",
      "Corn_(maize)___Common_rust_\n",
      "Grape___Leaf_blight_(Isariopsis_Leaf_Spot)(2)\n",
      "Grape___Leaf_blight_(Isariopsis_Leaf_Spot)\n",
      "Potato___Late_blight\n",
      "Tomato___Target_Spot(2)\n",
      "Cherry_(including_sour)___Powdery_mildew(3)\n",
      "Tomato___healthy\n",
      "Apple___healthy(3)\n",
      "Peach___Bacterial_spot(2)\n",
      "Potato___Early_blight(3)\n",
      "Squash___Powdery_mildew(3)\n",
      "Pepper,_bell___healthy(2)\n",
      "Tomato___healthy(3)\n",
      "Potato___healthy\n",
      "Squash___Powdery_mildew(2)\n",
      "Orange___Haunglongbing_(Citrus_greening)(2)\n",
      "Pepper,_bell___Bacterial_spot(3)\n",
      "Apple___Black_rot\n",
      "Tomato___Target_Spot\n",
      "Apple___Black_rot(2)\n",
      "Apple___Apple_scab(3)\n",
      "Potato___Early_blight\n",
      "Apple___Cedar_apple_rust(3)\n"
     ]
    }
   ],
   "source": [
    "# List all classes available in the dataset directories: color, grayscale, segmented\n",
    "\n",
    "\"\"\"Modified the plantvillage-dataset directory to plantvillage_combined where all\n",
    "directories: [color, graysacle, segmented] contents are combined\"\"\"\n",
    "\n",
    "new_dir = '/home/sudotechpro/alx_learn/UtabiriFarm/model/plantvillage_combined'\n",
    "\n",
    "classes = os.listdir(new_dir)\n",
    "for cls in classes:\n",
    "    print(cls)"
   ]
  },
  {
   "cell_type": "markdown",
   "metadata": {},
   "source": [
    "### **Create new directory for filtered dataset**\n",
    "\n",
    "```mkdir -p /home/sudotechpro/alx_learn/UtabiriFarm/model/plantvillage-filtered```\n",
    "\n",
    "Within the directory create subdirectories: select-data; stores content for selected classes choosen \n",
    "\n",
    "train, validation and test directories to be store content when data is split.\n",
    "\n",
    "```mkdir -p /home/sudotechpro/alx_learn/UtabiriFarm/model/plantvillage_filtered/select-data```\n",
    "\n",
    "```mkdir -p /home/sudotechpro/alx_learn/UtabiriFarm/model/plantvillage_filtered/train```\n",
    "\n",
    "```mkdir -p /home/sudotechpro/alx_learn/UtabiriFarm/model/plantvillage_filtered/train```\n",
    "\n",
    "```mkdir -p /home/sudotechpro/alx_learn/UtabiriFarm/model/plantvillage_filtered/train```\n"
   ]
  },
  {
   "cell_type": "code",
   "execution_count": 37,
   "metadata": {},
   "outputs": [
    {
     "name": "stdout",
     "output_type": "stream",
     "text": [
      "Copying Corn_(maize)___Cercospora_leaf_spot Gray_leaf_spot...\n",
      "Copying Corn_(maize)___Common_rust_...\n",
      "Copying Corn_(maize)___Northern_Leaf_Blight...\n",
      "Copying Corn_(maize)___healthy...\n",
      "Copying Corn_(maize)___Cercospora_leaf_spot Gray_leaf_spot(2)...\n",
      "Copying Corn_(maize)___Common_rust_(2)...\n",
      "Copying Corn_(maize)___Northern_Leaf_Blight(2)...\n",
      "Copying Corn_(maize)___healthy(2)...\n",
      "Copying Corn_(maize)___Cercospora_leaf_spot Gray_leaf_spot(3)...\n",
      "Copying Corn_(maize)___Common_rust_(3)...\n",
      "Copying Corn_(maize)___Northern_Leaf_Blight(3)...\n",
      "Copying Corn_(maize)___healthy(3)...\n",
      "Copying Tomato___Bacterial_spot...\n",
      "Copying Tomato___Early_blight...\n",
      "Copying Tomato___Late_blight...\n",
      "Copying Tomato___Leaf_Mold...\n",
      "Copying Tomato___Septoria_leaf_spot...\n",
      "Copying Tomato___Spider_mites Two-spotted_spider_mite...\n",
      "Copying Tomato___Target_Spot...\n",
      "Copying Tomato___Tomato_Yellow_Leaf_Curl_Virus...\n",
      "Copying Tomato___Tomato_mosaic_virus...\n",
      "Copying Tomato___healthy...\n",
      "Copying Tomato___Bacterial_spot(2)...\n",
      "Copying Tomato___Early_blight(2)...\n",
      "Copying Tomato___Late_blight(2)...\n",
      "Copying Tomato___Leaf_Mold(2)...\n",
      "Copying Tomato___Septoria_leaf_spot(2)...\n",
      "Copying Tomato___Spider_mites Two-spotted_spider_mite(2)...\n",
      "Copying Tomato___Target_Spot(2)...\n",
      "Copying Tomato___Tomato_Yellow_Leaf_Curl_Virus(2)...\n",
      "Copying Tomato___Tomato_mosaic_virus(2)...\n",
      "Copying Tomato___healthy(2)...\n",
      "Copying Tomato___Bacterial_spot(3)...\n",
      "Copying Tomato___Early_blight(3)...\n",
      "Copying Tomato___Late_blight(3)...\n",
      "Copying Tomato___Leaf_Mold(3)...\n",
      "Copying Tomato___Septoria_leaf_spot(3)...\n",
      "Copying Tomato___Spider_mites Two-spotted_spider_mite(3)...\n",
      "Copying Tomato___Target_Spot(3)...\n",
      "Copying Tomato___Tomato_Yellow_Leaf_Curl_Virus(3)...\n",
      "Copying Tomato___Tomato_mosaic_virus(3)...\n",
      "Copying Tomato___healthy(3)...\n",
      "Copying Potato___Early_blight...\n",
      "Copying Potato___Late_blight...\n",
      "Copying Potato___healthy...\n",
      "Copying Potato___Early_blight(2)...\n",
      "Copying Potato___Late_blight(2)...\n",
      "Copying Potato___healthy(2)...\n",
      "Copying Potato___Early_blight(3)...\n",
      "Copying Potato___Late_blight(3)...\n",
      "Copying Potato___healthy(3)...\n"
     ]
    }
   ],
   "source": [
    "# Source and destination directories\n",
    "source_dir = '/home/sudotechpro/alx_learn/UtabiriFarm/model/plantvillage_combined'\n",
    "dest_dir = '/home/sudotechpro/alx_learn/UtabiriFarm/model/plantvillage_filtered/select_data'\n",
    "\n",
    "# Select the classes to be used for training the model: Maize, Tomato, Potato\n",
    "selected_classes = [\n",
    "    'Corn_(maize)___Cercospora_leaf_spot Gray_leaf_spot',\n",
    "    'Corn_(maize)___Common_rust_',\n",
    "    'Corn_(maize)___Northern_Leaf_Blight',\n",
    "    'Corn_(maize)___healthy',\n",
    "    'Corn_(maize)___Cercospora_leaf_spot Gray_leaf_spot(2)',\n",
    "    'Corn_(maize)___Common_rust_(2)',\n",
    "    'Corn_(maize)___Northern_Leaf_Blight(2)',\n",
    "    'Corn_(maize)___healthy(2)',\n",
    "    'Corn_(maize)___Cercospora_leaf_spot Gray_leaf_spot(3)',\n",
    "    'Corn_(maize)___Common_rust_(3)',\n",
    "    'Corn_(maize)___Northern_Leaf_Blight(3)',\n",
    "    'Corn_(maize)___healthy(3)',\n",
    "    # Tomato classes\n",
    "    'Tomato___Bacterial_spot',\n",
    "    'Tomato___Early_blight',\n",
    "    'Tomato___Late_blight',\n",
    "    'Tomato___Leaf_Mold',\n",
    "    'Tomato___Septoria_leaf_spot',\n",
    "    'Tomato___Spider_mites Two-spotted_spider_mite',\n",
    "    'Tomato___Target_Spot',\n",
    "    'Tomato___Tomato_Yellow_Leaf_Curl_Virus',\n",
    "    'Tomato___Tomato_mosaic_virus',\n",
    "    'Tomato___healthy',\n",
    "    'Tomato___Bacterial_spot(2)',\n",
    "    'Tomato___Early_blight(2)',\n",
    "    'Tomato___Late_blight(2)',\n",
    "    'Tomato___Leaf_Mold(2)',\n",
    "    'Tomato___Septoria_leaf_spot(2)',\n",
    "    'Tomato___Spider_mites Two-spotted_spider_mite(2)',\n",
    "    'Tomato___Target_Spot(2)',\n",
    "    'Tomato___Tomato_Yellow_Leaf_Curl_Virus(2)',\n",
    "    'Tomato___Tomato_mosaic_virus(2)',\n",
    "    'Tomato___healthy(2)',\n",
    "    'Tomato___Bacterial_spot(3)',\n",
    "    'Tomato___Early_blight(3)',\n",
    "    'Tomato___Late_blight(3)',\n",
    "    'Tomato___Leaf_Mold(3)',\n",
    "    'Tomato___Septoria_leaf_spot(3)',\n",
    "    'Tomato___Spider_mites Two-spotted_spider_mite(3)',\n",
    "    'Tomato___Target_Spot(3)',\n",
    "    'Tomato___Tomato_Yellow_Leaf_Curl_Virus(3)',\n",
    "    'Tomato___Tomato_mosaic_virus(3)',\n",
    "    'Tomato___healthy(3)',\n",
    "    # Potato classes\n",
    "    'Potato___Early_blight',\n",
    "    'Potato___Late_blight',\n",
    "    'Potato___healthy',\n",
    "    'Potato___Early_blight(2)',\n",
    "    'Potato___Late_blight(2)',\n",
    "    'Potato___healthy(2)',\n",
    "    'Potato___Early_blight(3)',\n",
    "    'Potato___Late_blight(3)',\n",
    "    'Potato___healthy(3)'\n",
    "]\n",
    "\n",
    "# Ensure destination directory exists\n",
    "os.makedirs(dest_dir, exist_ok=True)\n",
    "\n",
    "for cls in selected_classes:\n",
    "    src_path = os.path.join(source_dir, cls)\n",
    "    dst_path = os.path.join(dest_dir, cls)\n",
    "    if os.path.exists(src_path):\n",
    "        print(f'Copying {cls}...')\n",
    "        shutil.copytree(src_path, dst_path)\n",
    "    else:\n",
    "        print(f'Warning: {cls} does not exist in the source directory.')"
   ]
  },
  {
   "cell_type": "code",
   "execution_count": 32,
   "metadata": {},
   "outputs": [
    {
     "name": "stdout",
     "output_type": "stream",
     "text": [
      "Potato___healthy(3)\n",
      "Tomato___Septoria_leaf_spot(3)\n",
      "Corn_(maize)___Common_rust_(3)\n",
      "Potato___Late_blight(3)\n",
      "Tomato___Tomato_Yellow_Leaf_Curl_Virus(3)\n",
      "Corn_(maize)___healthy(3)\n",
      "Tomato___Target_Spot(3)\n",
      "Tomato___Spider_mites Two-spotted_spider_mite(3)\n",
      "Tomato___Leaf_Mold(2)\n",
      "Tomato___Bacterial_spot(3)\n",
      "Corn_(maize)___Common_rust_(2)\n",
      "Corn_(maize)___Cercospora_leaf_spot Gray_leaf_spot\n",
      "Potato___Late_blight(2)\n",
      "Potato___Early_blight(2)\n",
      "Corn_(maize)___Northern_Leaf_Blight\n",
      "Corn_(maize)___healthy(2)\n",
      "Corn_(maize)___Cercospora_leaf_spot Gray_leaf_spot(3)\n",
      "Tomato___Early_blight\n",
      "Tomato___Septoria_leaf_spot\n",
      "Corn_(maize)___Northern_Leaf_Blight(3)\n",
      "Potato___healthy(2)\n",
      "Tomato___Septoria_leaf_spot(2)\n",
      "Tomato___Late_blight(3)\n",
      "Corn_(maize)___Northern_Leaf_Blight(2)\n",
      "Tomato___Bacterial_spot\n",
      "Tomato___Tomato_Yellow_Leaf_Curl_Virus(2)\n",
      "Tomato___Bacterial_spot(2)\n",
      "Tomato___Spider_mites Two-spotted_spider_mite(2)\n",
      "Tomato___Leaf_Mold(3)\n",
      "Tomato___Spider_mites Two-spotted_spider_mite\n",
      "Tomato___Late_blight\n",
      "Tomato___Early_blight(3)\n",
      "Tomato___healthy(2)\n",
      "Tomato___Tomato_mosaic_virus(3)\n",
      "Tomato___Tomato_mosaic_virus\n",
      "Tomato___Early_blight(2)\n",
      "Tomato___Tomato_mosaic_virus(2)\n",
      "Tomato___Late_blight(2)\n",
      "Corn_(maize)___Cercospora_leaf_spot Gray_leaf_spot(2)\n",
      "Corn_(maize)___healthy\n",
      "Tomato___Tomato_Yellow_Leaf_Curl_Virus\n",
      "Tomato___Leaf_Mold\n",
      "Corn_(maize)___Common_rust_\n",
      "Potato___Late_blight\n",
      "Tomato___Target_Spot(2)\n",
      "Tomato___healthy\n",
      "Potato___Early_blight(3)\n",
      "Tomato___healthy(3)\n",
      "Potato___healthy\n",
      "Tomato___Target_Spot\n",
      "Potato___Early_blight\n"
     ]
    }
   ],
   "source": [
    "# Verify the files copied to the destination directory\n",
    "\n",
    "filtered_classes = os.listdir(dest_dir)\n",
    "for cls in filtered_classes:\n",
    "    print(cls)"
   ]
  },
  {
   "cell_type": "markdown",
   "metadata": {},
   "source": [
    "# **Split the filtered dataset into training, validation and test sets**"
   ]
  },
  {
   "cell_type": "code",
   "execution_count": 38,
   "metadata": {},
   "outputs": [],
   "source": [
    "# Create function to split the data into training, validation and test sets\n",
    "def split_data(source, train_dest, val_dest, test_dest, split_ratio=(0.7, 0.2, 0.1)):\n",
    "    classes = os.listdir(source)\n",
    "    for cls in classes:\n",
    "        cls_source = os.path.join(source, cls)\n",
    "        images = os.listdir(cls_source)\n",
    "        random.shuffle(images)\n",
    "        total_images = len(images)\n",
    "        train_end = int(split_ratio[0] * total_images)\n",
    "        val_end = train_end + int(split_ratio[1] * total_images)\n",
    "\n",
    "        # Create class directories in destination folders\n",
    "        os.makedirs(os.path.join(train_dest, cls), exist_ok=True)\n",
    "        os.makedirs(os.path.join(val_dest, cls), exist_ok=True)\n",
    "        os.makedirs(os.path.join(test_dest, cls), exist_ok=True)\n",
    "\n",
    "        # Copy images to train\n",
    "        for img in images[:train_end]:\n",
    "            shutil.copy(\n",
    "                os.path.join(cls_source, img),\n",
    "                os.path.join(train_dest, cls, img)\n",
    "            )\n",
    "        # Copy images to validation\n",
    "        for img in images[train_end:val_end]:\n",
    "            shutil.copy(\n",
    "                os.path.join(cls_source, img),\n",
    "                os.path.join(val_dest, cls, img)\n",
    "            )\n",
    "        # Copy images to test\n",
    "        for img in images[val_end:]:\n",
    "            shutil.copy(\n",
    "                os.path.join(cls_source, img),\n",
    "                os.path.join(test_dest, cls, img)\n",
    "            )\n",
    "\n",
    "source_dir = dest_dir  # Original filtered dataset\n",
    "train_dir = '/home/sudotechpro/alx_learn/UtabiriFarm/model/plantvillage_filtered/train'\n",
    "val_dir = '/home/sudotechpro/alx_learn/UtabiriFarm/model/plantvillage_filtered/validation'\n",
    "test_dir = '/home/sudotechpro/alx_learn/UtabiriFarm/model/plantvillage_filtered/test'\n",
    "\n",
    "split_data(source_dir, train_dir, val_dir, test_dir)"
   ]
  },
  {
   "cell_type": "markdown",
   "metadata": {},
   "source": [
    "# **Data Preprocessing**\n",
    "\n",
    "### Necessary Imports\n",
    "\n",
    "- ImageDataGenerator: For generating batches of tensor image data with real-time data augmentation."
   ]
  },
  {
   "cell_type": "code",
   "execution_count": 70,
   "metadata": {},
   "outputs": [],
   "source": [
    "# Import TensorFlow and Keras modules\n",
    "from tensorflow.keras.applications import MobileNetV2\n",
    "from tensorflow.keras.preprocessing.image import ImageDataGenerator\n",
    "from tensorflow.keras.preprocessing import image\n",
    "from tensorflow.keras.models import Model\n",
    "from tensorflow.keras.models import Sequential\n",
    "from tensorflow.keras.layers import (\n",
    "    Conv2D, MaxPooling2D, Flatten, Dense, Dropout, BatchNormalization, GlobalAveragePooling2D\n",
    ")\n",
    "from tensorflow.keras.callbacks import ModelCheckpoint, EarlyStopping\n",
    "from tensorflow.keras.optimizers import Adam"
   ]
  },
  {
   "cell_type": "code",
   "execution_count": 42,
   "metadata": {},
   "outputs": [
    {
     "name": "stdout",
     "output_type": "stream",
     "text": [
      "Found 68030 images belonging to 51 classes.\n",
      "Found 33577 images belonging to 51 classes.\n",
      "Found 19222 images belonging to 51 classes.\n"
     ]
    }
   ],
   "source": [
    "# Trainng data generator with augmentation\n",
    "train_datagen = ImageDataGenerator(\n",
    "    rescale=1./255,\n",
    "    rotation_range=40,\n",
    "    width_shift_range=0.2,\n",
    "    height_shift_range=0.2,\n",
    "    shear_range=0.2,\n",
    "    zoom_range=0.2,\n",
    "    horizontal_flip=True,\n",
    "    fill_mode='nearest'\n",
    ")\n",
    "\n",
    "# Validation data generator and test data generator without augmentation\n",
    "val_datagen = ImageDataGenerator(rescale=1./255)\n",
    "test_datagen = ImageDataGenerator(rescale=1./255)\n",
    "\n",
    "# Create data generators\n",
    "train_generator = train_datagen.flow_from_directory(\n",
    "    train_dir,\n",
    "    target_size=(224, 224),\n",
    "    batch_size=16,\n",
    "    class_mode='categorical'\n",
    ")\n",
    "\n",
    "val_generator = val_datagen.flow_from_directory(\n",
    "    val_dir,\n",
    "    target_size=(224, 224),\n",
    "    batch_size=16,\n",
    "    class_mode='categorical'\n",
    ")\n",
    "\n",
    "test_generator = test_datagen.flow_from_directory(\n",
    "    test_dir,\n",
    "    target_size=(244, 244),\n",
    "    batch_size=16,\n",
    "    class_mode='categorical'\n",
    ")\n"
   ]
  },
  {
   "cell_type": "code",
   "execution_count": 68,
   "metadata": {},
   "outputs": [
    {
     "name": "stdout",
     "output_type": "stream",
     "text": [
      "Class Indices: {'Corn_(maize)___Cercospora_leaf_spot Gray_leaf_spot': 0, 'Corn_(maize)___Cercospora_leaf_spot Gray_leaf_spot(2)': 1, 'Corn_(maize)___Cercospora_leaf_spot Gray_leaf_spot(3)': 2, 'Corn_(maize)___Common_rust_': 3, 'Corn_(maize)___Common_rust_(2)': 4, 'Corn_(maize)___Common_rust_(3)': 5, 'Corn_(maize)___Northern_Leaf_Blight': 6, 'Corn_(maize)___Northern_Leaf_Blight(2)': 7, 'Corn_(maize)___Northern_Leaf_Blight(3)': 8, 'Corn_(maize)___healthy': 9, 'Corn_(maize)___healthy(2)': 10, 'Corn_(maize)___healthy(3)': 11, 'Potato___Early_blight': 12, 'Potato___Early_blight(2)': 13, 'Potato___Early_blight(3)': 14, 'Potato___Late_blight': 15, 'Potato___Late_blight(2)': 16, 'Potato___Late_blight(3)': 17, 'Potato___healthy': 18, 'Potato___healthy(2)': 19, 'Potato___healthy(3)': 20, 'Tomato___Bacterial_spot': 21, 'Tomato___Bacterial_spot(2)': 22, 'Tomato___Bacterial_spot(3)': 23, 'Tomato___Early_blight': 24, 'Tomato___Early_blight(2)': 25, 'Tomato___Early_blight(3)': 26, 'Tomato___Late_blight': 27, 'Tomato___Late_blight(2)': 28, 'Tomato___Late_blight(3)': 29, 'Tomato___Leaf_Mold': 30, 'Tomato___Leaf_Mold(2)': 31, 'Tomato___Leaf_Mold(3)': 32, 'Tomato___Septoria_leaf_spot': 33, 'Tomato___Septoria_leaf_spot(2)': 34, 'Tomato___Septoria_leaf_spot(3)': 35, 'Tomato___Spider_mites Two-spotted_spider_mite': 36, 'Tomato___Spider_mites Two-spotted_spider_mite(2)': 37, 'Tomato___Spider_mites Two-spotted_spider_mite(3)': 38, 'Tomato___Target_Spot': 39, 'Tomato___Target_Spot(2)': 40, 'Tomato___Target_Spot(3)': 41, 'Tomato___Tomato_Yellow_Leaf_Curl_Virus': 42, 'Tomato___Tomato_Yellow_Leaf_Curl_Virus(2)': 43, 'Tomato___Tomato_Yellow_Leaf_Curl_Virus(3)': 44, 'Tomato___Tomato_mosaic_virus': 45, 'Tomato___Tomato_mosaic_virus(2)': 46, 'Tomato___Tomato_mosaic_virus(3)': 47, 'Tomato___healthy': 48, 'Tomato___healthy(2)': 49, 'Tomato___healthy(3)': 50}\n"
     ]
    }
   ],
   "source": [
    "class_indices = train_generator.class_indices\n",
    "print(\"Class Indices:\", class_indices)"
   ]
  },
  {
   "cell_type": "markdown",
   "metadata": {},
   "source": [
    "# **Build and Compile the Model**"
   ]
  },
  {
   "cell_type": "code",
   "execution_count": 71,
   "metadata": {},
   "outputs": [],
   "source": [
    "# Load the base model\n",
    "base_model = MobileNetV2(\n",
    "    input_shape=(224, 224, 3),\n",
    "    include_top=False,  # Exclude the top layers\n",
    "    weights='imagenet'  # Load weights pre-trained on ImageNet\n",
    ")"
   ]
  },
  {
   "cell_type": "code",
   "execution_count": 72,
   "metadata": {},
   "outputs": [],
   "source": [
    "# Freeze all layers in the base model\n",
    "for layer in base_model.layers:\n",
    "    layer.trainable = False"
   ]
  },
  {
   "cell_type": "code",
   "execution_count": 73,
   "metadata": {},
   "outputs": [],
   "source": [
    "# BAdd custom classification layers\n",
    "\n",
    "# Get the output of the base model\n",
    "x = base_model.output\n",
    "\n",
    "# Add a global spatial average pooling layer\n",
    "x = GlobalAveragePooling2D()(x)\n",
    "\n",
    "# Add a fully-connected layer with dropout\n",
    "x = Dense(1024, activation='relu')(x)\n",
    "x = Dropout(0.5)(x)\n",
    "\n",
    "# Add a final softmax layer with the number of classes\n",
    "num_classes = len(class_indices)\n",
    "predictions = Dense(num_classes, activation='softmax')(x)\n",
    "\n",
    "# Define the complete model\n",
    "model = Model(inputs=base_model.input, outputs=predictions)\n",
    "\n",
    "\n",
    "# Compile the model\n",
    "model.compile(\n",
    "    loss='categorical_crossentropy',\n",
    "    optimizer=Adam(),\n",
    "    metrics=['accuracy']\n",
    ")"
   ]
  },
  {
   "cell_type": "markdown",
   "metadata": {},
   "source": [
    "# **Setup Callbacks**"
   ]
  },
  {
   "cell_type": "code",
   "execution_count": 74,
   "metadata": {},
   "outputs": [],
   "source": [
    "# Path to checkpoint the best model\n",
    "best_model_path = '/home/sudotechpro/alx_learn/UtabiriFarm/model/models/best_model.keras'\n",
    "# Checkpoint to save the best model\n",
    "checkpoint = ModelCheckpoint(\n",
    "    best_model_path,\n",
    "    monitor='val_loss',\n",
    "    save_best_only=True,\n",
    "    verbose=1\n",
    ")\n",
    "\n",
    "# Early stopping to prevent overfitting\n",
    "early_stopping = EarlyStopping(\n",
    "    monitor='val_loss',\n",
    "    patience=20,\n",
    "    verbose=1\n",
    ")"
   ]
  },
  {
   "cell_type": "markdown",
   "metadata": {},
   "source": [
    "# **Train the Model**"
   ]
  },
  {
   "cell_type": "code",
   "execution_count": 82,
   "metadata": {},
   "outputs": [
    {
     "name": "stdout",
     "output_type": "stream",
     "text": [
      "Epoch 1/5\n",
      "\u001b[1m1000/1000\u001b[0m \u001b[32m━━━━━━━━━━━━━━━━━━━━\u001b[0m\u001b[37m\u001b[0m \u001b[1m0s\u001b[0m 628ms/step - accuracy: 0.5944 - loss: 1.2741"
     ]
    },
    {
     "name": "stderr",
     "output_type": "stream",
     "text": [
      "/home/sudotechpro/alx_learn/starlight/lib/python3.12/site-packages/keras/src/trainers/data_adapters/py_dataset_adapter.py:122: UserWarning: Your `PyDataset` class should call `super().__init__(**kwargs)` in its constructor. `**kwargs` can include `workers`, `use_multiprocessing`, `max_queue_size`. Do not pass these arguments to `fit()`, as they will be ignored.\n",
      "  self._warn_if_super_not_called()\n"
     ]
    },
    {
     "name": "stdout",
     "output_type": "stream",
     "text": [
      "\n",
      "Epoch 1: val_loss improved from inf to 0.69680, saving model to /home/sudotechpro/alx_learn/UtabiriFarm/model/models/best_model.keras\n",
      "\u001b[1m1000/1000\u001b[0m \u001b[32m━━━━━━━━━━━━━━━━━━━━\u001b[0m\u001b[37m\u001b[0m \u001b[1m1677s\u001b[0m 2s/step - accuracy: 0.5945 - loss: 1.2740 - val_accuracy: 0.7551 - val_loss: 0.6968\n",
      "Epoch 2/5\n",
      "\u001b[1m1000/1000\u001b[0m \u001b[32m━━━━━━━━━━━━━━━━━━━━\u001b[0m\u001b[37m\u001b[0m \u001b[1m0s\u001b[0m 649ms/step - accuracy: 0.6855 - loss: 0.9433\n",
      "Epoch 2: val_loss improved from 0.69680 to 0.64806, saving model to /home/sudotechpro/alx_learn/UtabiriFarm/model/models/best_model.keras\n",
      "\u001b[1m1000/1000\u001b[0m \u001b[32m━━━━━━━━━━━━━━━━━━━━\u001b[0m\u001b[37m\u001b[0m \u001b[1m1801s\u001b[0m 2s/step - accuracy: 0.6855 - loss: 0.9433 - val_accuracy: 0.7667 - val_loss: 0.6481\n",
      "Epoch 3/5\n",
      "\u001b[1m1000/1000\u001b[0m \u001b[32m━━━━━━━━━━━━━━━━━━━━\u001b[0m\u001b[37m\u001b[0m \u001b[1m0s\u001b[0m 630ms/step - accuracy: 0.7052 - loss: 0.8544\n",
      "Epoch 3: val_loss improved from 0.64806 to 0.62708, saving model to /home/sudotechpro/alx_learn/UtabiriFarm/model/models/best_model.keras\n",
      "\u001b[1m1000/1000\u001b[0m \u001b[32m━━━━━━━━━━━━━━━━━━━━\u001b[0m\u001b[37m\u001b[0m \u001b[1m1763s\u001b[0m 2s/step - accuracy: 0.7052 - loss: 0.8544 - val_accuracy: 0.7787 - val_loss: 0.6271\n",
      "Epoch 4/5\n",
      "\u001b[1m1000/1000\u001b[0m \u001b[32m━━━━━━━━━━━━━━━━━━━━\u001b[0m\u001b[37m\u001b[0m \u001b[1m0s\u001b[0m 627ms/step - accuracy: 0.7157 - loss: 0.8280\n",
      "Epoch 4: val_loss improved from 0.62708 to 0.55378, saving model to /home/sudotechpro/alx_learn/UtabiriFarm/model/models/best_model.keras\n",
      "\u001b[1m1000/1000\u001b[0m \u001b[32m━━━━━━━━━━━━━━━━━━━━\u001b[0m\u001b[37m\u001b[0m \u001b[1m1772s\u001b[0m 2s/step - accuracy: 0.7157 - loss: 0.8280 - val_accuracy: 0.8019 - val_loss: 0.5538\n",
      "Epoch 5/5\n",
      "\u001b[1m 252/1000\u001b[0m \u001b[32m━━━━━\u001b[0m\u001b[37m━━━━━━━━━━━━━━━\u001b[0m \u001b[1m7:35\u001b[0m 609ms/step - accuracy: 0.7185 - loss: 0.7880"
     ]
    },
    {
     "name": "stderr",
     "output_type": "stream",
     "text": [
      "2024-09-24 17:47:48.605228: I tensorflow/core/framework/local_rendezvous.cc:404] Local rendezvous is aborting with status: OUT_OF_RANGE: End of sequence\n",
      "\t [[{{node IteratorGetNext}}]]\n",
      "/usr/lib/python3.12/contextlib.py:158: UserWarning: Your input ran out of data; interrupting training. Make sure that your dataset or generator can generate at least `steps_per_epoch * epochs` batches. You may need to use the `.repeat()` function when building your dataset.\n",
      "  self.gen.throw(value)\n"
     ]
    },
    {
     "name": "stdout",
     "output_type": "stream",
     "text": [
      "\n",
      "Epoch 5: val_loss improved from 0.55378 to 0.54651, saving model to /home/sudotechpro/alx_learn/UtabiriFarm/model/models/best_model.keras\n",
      "\u001b[1m1000/1000\u001b[0m \u001b[32m━━━━━━━━━━━━━━━━━━━━\u001b[0m\u001b[37m\u001b[0m \u001b[1m1136s\u001b[0m 1s/step - accuracy: 0.7189 - loss: 0.7986 - val_accuracy: 0.8021 - val_loss: 0.5465\n"
     ]
    }
   ],
   "source": [
    "epochs = 5  # You can adjust this number based on your dataset size and performance\n",
    "\n",
    "history = model.fit(\n",
    "    train_generator,\n",
    "    steps_per_epoch=1000,\n",
    "    # steps_per_epoch=train_generator.samples // train_generator.batch_size,\n",
    "    validation_data=val_generator,\n",
    "    # validation_steps=val_generator.samples // val_generator.batch_size,\n",
    "    epochs=epochs,\n",
    "    callbacks=[checkpoint, early_stopping]\n",
    ")"
   ]
  },
  {
   "cell_type": "markdown",
   "metadata": {},
   "source": [
    "# **Evaluate Model on Test**"
   ]
  },
  {
   "cell_type": "code",
   "execution_count": 84,
   "metadata": {},
   "outputs": [
    {
     "name": "stderr",
     "output_type": "stream",
     "text": [
      "/home/sudotechpro/alx_learn/starlight/lib/python3.12/site-packages/keras/src/trainers/data_adapters/py_dataset_adapter.py:122: UserWarning: Your `PyDataset` class should call `super().__init__(**kwargs)` in its constructor. `**kwargs` can include `workers`, `use_multiprocessing`, `max_queue_size`. Do not pass these arguments to `fit()`, as they will be ignored.\n",
      "  self._warn_if_super_not_called()\n"
     ]
    },
    {
     "name": "stdout",
     "output_type": "stream",
     "text": [
      "\u001b[1m1202/1202\u001b[0m \u001b[32m━━━━━━━━━━━━━━━━━━━━\u001b[0m\u001b[37m\u001b[0m \u001b[1m773s\u001b[0m 641ms/step - accuracy: 0.8008 - loss: 0.5496\n",
      "Test Loss: 0.5570986866950989\n",
      "Test Accuracy: 0.7988242506980896\n"
     ]
    }
   ],
   "source": [
    "# Load the best saved model\n",
    "model.load_weights(best_model_path)\n",
    "\n",
    "# Evaluate on the test set\n",
    "test_loss, test_accuracy = model.evaluate(\n",
    "    test_generator,\n",
    "    # steps=test_generator.samples // test_generator.batch_size\n",
    ")\n",
    "print(f'Test Loss: {test_loss}')\n",
    "print(f'Test Accuracy: {test_accuracy}')"
   ]
  },
  {
   "cell_type": "code",
   "execution_count": 86,
   "metadata": {},
   "outputs": [],
   "source": [
    "# Save the model\n",
    "model_path = '/home/sudotechpro/alx_learn/UtabiriFarm/model/models/utabirifarm-model.keras'\n",
    "model.save(model_path)\n"
   ]
  },
  {
   "cell_type": "code",
   "execution_count": null,
   "metadata": {},
   "outputs": [],
   "source": []
  }
 ],
 "metadata": {
  "kernelspec": {
   "display_name": "starlight",
   "language": "python",
   "name": "python3"
  },
  "language_info": {
   "codemirror_mode": {
    "name": "ipython",
    "version": 3
   },
   "file_extension": ".py",
   "mimetype": "text/x-python",
   "name": "python",
   "nbconvert_exporter": "python",
   "pygments_lexer": "ipython3",
   "version": "3.12.3"
  }
 },
 "nbformat": 4,
 "nbformat_minor": 2
}
